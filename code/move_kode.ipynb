{
 "cells": [
  {
   "cell_type": "code",
   "execution_count": 1,
   "id": "a8db5f3d-da4a-4dc1-865f-aa9d3bb5c8b4",
   "metadata": {
    "tags": []
   },
   "outputs": [],
   "source": [
    "import pandas as pd\n",
    "import os\n",
    "import shutil\n",
    "from tqdm import tqdm"
   ]
  },
  {
   "cell_type": "code",
   "execution_count": 6,
   "id": "a014455d-7088-4a32-8de1-23cb2071c891",
   "metadata": {
    "tags": []
   },
   "outputs": [],
   "source": [
    "SOURCE = '/Terry/georeference/georeferenced_maps_export'\n",
    "DEST = '/Terry/georeference/ST_georeferenced'\n",
    "KEYMAP = '/Terry/Map Kode SLS ST2023.xlsx'"
   ]
  },
  {
   "cell_type": "code",
   "execution_count": 7,
   "id": "f8322f20-935b-4b44-aeb5-3a6c5775b9ed",
   "metadata": {
    "tags": []
   },
   "outputs": [],
   "source": [
    "kode = pd.read_excel(KEYMAP, dtype=str)"
   ]
  },
  {
   "cell_type": "code",
   "execution_count": 8,
   "id": "91a46e4d-1a43-4dd7-bdb7-0ffea7918b14",
   "metadata": {
    "tags": []
   },
   "outputs": [],
   "source": [
    "map_kec = kode.set_index('idkec')['nmkec'].to_dict()\n",
    "map_desa = kode.set_index('iddesa')['nmdesa'].to_dict()"
   ]
  },
  {
   "cell_type": "code",
   "execution_count": 9,
   "id": "941360aa-fab6-47d3-ae07-7a2746582400",
   "metadata": {
    "tags": []
   },
   "outputs": [
    {
     "name": "stderr",
     "output_type": "stream",
     "text": [
      "100%|████████████████████████████████████████████████████████████████████████████| 2689/2689 [00:01<00:00, 2376.68it/s]\n"
     ]
    }
   ],
   "source": [
    "for i in tqdm(os.listdir(SOURCE)):\n",
    "    idsls = i.split('_')[0]\n",
    "    idkec = idsls[:7]\n",
    "    iddesa = idsls[:10]\n",
    "    \n",
    "    folder = f'{DEST}/{map_kec[idkec]}/{map_desa[iddesa]}'\n",
    "    \n",
    "    # Check if the directory exists\n",
    "    if not os.path.exists(folder):\n",
    "        # Create the directory if it doesn't exist\n",
    "        os.makedirs(folder)\n",
    "    \n",
    "    shutil.move(f'{SOURCE}/{i}', f'{folder}/{i}')"
   ]
  },
  {
   "cell_type": "code",
   "execution_count": null,
   "id": "1583b1c6-4d7d-4b0f-af74-e7761bf80c93",
   "metadata": {},
   "outputs": [],
   "source": []
  }
 ],
 "metadata": {
  "kernelspec": {
   "display_name": "Python 3 (ipykernel)",
   "language": "python",
   "name": "python3"
  },
  "language_info": {
   "codemirror_mode": {
    "name": "ipython",
    "version": 3
   },
   "file_extension": ".py",
   "mimetype": "text/x-python",
   "name": "python",
   "nbconvert_exporter": "python",
   "pygments_lexer": "ipython3",
   "version": "3.11.5"
  }
 },
 "nbformat": 4,
 "nbformat_minor": 5
}
