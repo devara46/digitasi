{
 "cells": [
  {
   "cell_type": "code",
   "execution_count": 1,
   "id": "c9222fd3-9225-44d1-8789-3446ef6883a6",
   "metadata": {
    "tags": []
   },
   "outputs": [],
   "source": [
    "import math\n",
    "import os\n",
    "import cv2\n",
    "import shutil\n",
    "import numpy as np\n",
    "import pandas as pd\n",
    "\n",
    "from osgeo import gdal, osr\n",
    "from tqdm import tqdm"
   ]
  },
  {
   "cell_type": "code",
   "execution_count": 76,
   "id": "47ea306e-297b-406a-8987-bf45996fb939",
   "metadata": {
    "tags": []
   },
   "outputs": [],
   "source": [
    "SOURCE = '/peta_rename'\n",
    "TEMP_ROI = '/Terry/georeference/temp_file/ROI'\n",
    "TEMP_CROP = '/Terry/georeference/temp_file/Crop'\n",
    "COORD = '/Terry/georeference/sls_st_coordinates.csv'\n",
    "RESULT = 'georeferenced_maps_export'"
   ]
  },
  {
   "cell_type": "code",
   "execution_count": 70,
   "id": "55e4daec-a25b-4f2d-a0b9-c526af5b5a53",
   "metadata": {},
   "outputs": [],
   "source": [
    "def get_loc(input_path, output_path):\n",
    "    x = 50\n",
    "    y = 100\n",
    "\n",
    "    # Load the image\n",
    "    image = cv2.imread(input_path)\n",
    "\n",
    "    height, width = image.shape[:2]\n",
    "\n",
    "    if width > height:\n",
    "        width = round(2650/3306*width)\n",
    "        height = round(2300/2337*height)\n",
    "\n",
    "    else:\n",
    "        width = round(2300/2337*width)\n",
    "        height = round(2650/3306*height)\n",
    "\n",
    "    # Crop the image using the provided coordinates and dimensions\n",
    "    cropped_image = image[y:y+height, x:x+width]\n",
    "\n",
    "    # Save the cropped image\n",
    "    cv2.imwrite(output_path, cropped_image)"
   ]
  },
  {
   "cell_type": "code",
   "execution_count": 106,
   "id": "2a1adbb6-63e4-4f75-8030-f13f7397b7b0",
   "metadata": {
    "tags": []
   },
   "outputs": [],
   "source": [
    "def crop_map(input_path, output_path):\n",
    "    # Load the JPEG file\n",
    "    img = cv2.imread(input_path)\n",
    "\n",
    "    # Convert the image to grayscale\n",
    "    gray = cv2.cvtColor(img, cv2.COLOR_BGR2GRAY)\n",
    "\n",
    "    # Apply a Canny edge detection filter to find the edges\n",
    "    edges = cv2.Canny(gray, 50, 150)\n",
    "\n",
    "    # Find contours in the image\n",
    "    contours, hierarchy = cv2.findContours(\n",
    "        edges, \n",
    "        cv2.RETR_EXTERNAL, \n",
    "        cv2.CHAIN_APPROX_SIMPLE)\n",
    "\n",
    "    # Initialize variables to track the largest contour and its area\n",
    "    largest_contour = None\n",
    "    largest_area = 0\n",
    "\n",
    "    # Iterate through the detected contours to find the largest one\n",
    "    for contour in contours:\n",
    "        contour_area = cv2.contourArea(contour)\n",
    "        if contour_area > largest_area:\n",
    "            largest_area = contour_area\n",
    "            largest_contour = contour\n",
    "    \n",
    "    height, width = image.shape[:2]\n",
    "            \n",
    "    if width > height:\n",
    "        min_size_threshold = (\n",
    "            (2000/2300*height)\n",
    "            * (2000/2650*width)\n",
    "        )\n",
    "    else:\n",
    "        min_size_threshold = (\n",
    "            (2000/2300*width)\n",
    "            * (2000/2650*height)\n",
    "        )\n",
    "    \n",
    "    # Check if the largest contour meets the size threshold\n",
    "    if largest_contour is not None and largest_area >= min_size_threshold:\n",
    "        # Get the bounding box coordinates\n",
    "        x, y, w, h = cv2.boundingRect(largest_contour)\n",
    "\n",
    "        # Extract the image inside the bounding box\n",
    "        img_cropped = img[y:y+h, x:x+w]\n",
    "\n",
    "        # Save the cropped image as a new JPEG file\n",
    "        cv2.imwrite(output_path, img_cropped)"
   ]
  },
  {
   "cell_type": "code",
   "execution_count": 62,
   "id": "e9e6e348-33d7-4c75-8e79-7d59f74648a0",
   "metadata": {
    "tags": []
   },
   "outputs": [],
   "source": [
    "def georeference(input_path, output_path, xmin, xmax, ymin, ymax):\n",
    "    # Load the input image\n",
    "    input_image = gdal.Open(input_path)\n",
    "\n",
    "    # Get the image dimensions\n",
    "    image_width = input_image.RasterXSize\n",
    "    image_height = input_image.RasterYSize\n",
    "    num_bands = input_image.RasterCount\n",
    "\n",
    "    # Create a spatial reference for the output GeoTIFF\n",
    "    output_srs = osr.SpatialReference()\n",
    "    output_srs.ImportFromEPSG(4326)  # Use WGS84 coordinate system\n",
    "\n",
    "    # Create the output GeoTIFF file\n",
    "    driver = gdal.GetDriverByName('GTiff')\n",
    "    output_image = driver.Create(\n",
    "    output_path, \n",
    "    image_width, \n",
    "    image_height, \n",
    "    num_bands, \n",
    "    gdal.GDT_Byte\n",
    "    )\n",
    "\n",
    "    # Write the output image data\n",
    "    for band_index in range(1, num_bands + 1):\n",
    "        input_band = input_image.GetRasterBand(band_index)\n",
    "        output_band = output_image.GetRasterBand(band_index)\n",
    "        output_band.WriteArray(input_band.ReadAsArray())\n",
    "\n",
    "    # Set the output image geotransform\n",
    "    geotransform = (\n",
    "        xmin, \n",
    "        (xmax - xmin) / image_width, \n",
    "        0, \n",
    "        ymax, \n",
    "        0, \n",
    "        (ymin - ymax) / image_height\n",
    "    )\n",
    "    output_image.SetGeoTransform(geotransform)\n",
    "\n",
    "    # Set the output image projection\n",
    "    output_image.SetProjection(output_srs.ExportToWkt())\n",
    "\n",
    "    # Close the input and output images\n",
    "    input_image = None\n",
    "    output_image = None"
   ]
  },
  {
   "cell_type": "code",
   "execution_count": 79,
   "id": "95a5e7e2-3294-46c6-b569-abeed2936d2e",
   "metadata": {
    "tags": []
   },
   "outputs": [],
   "source": [
    "if not os.path.exists(TEMP_CROP):\n",
    "    os.makedirs(TEMP_CROP)\n",
    "  \n",
    "if not os.path.exists(TEMP_ROI):\n",
    "    os.makedirs(TEMP_ROI)\n",
    "\n",
    "if not os.path.exists(RESULT):\n",
    "    os.makedirs(RESULT)"
   ]
  },
  {
   "cell_type": "code",
   "execution_count": 99,
   "id": "bd84c9fd-f430-454b-baa6-9e281b87690b",
   "metadata": {
    "tags": []
   },
   "outputs": [],
   "source": [
    "list_peta = os.listdir(SOURCE)\n",
    "df = pd.read_csv(COORD, dtype={'idsls': str})"
   ]
  },
  {
   "cell_type": "code",
   "execution_count": 105,
   "id": "f1d6ffc7-4d8d-4af1-8f70-41da8979f73f",
   "metadata": {
    "tags": []
   },
   "outputs": [
    {
     "name": "stderr",
     "output_type": "stream",
     "text": [
      " 22%|████████████████▊                                                            | 759/3486 [20:36<2:21:37,  3.12s/it]"
     ]
    },
    {
     "name": "stdout",
     "output_type": "stream",
     "text": [
      "/Terry/georeference/temp_file/ROI/52060300030006.jpg\n"
     ]
    },
    {
     "name": "stderr",
     "output_type": "stream",
     "text": [
      " 48%|█████████████████████████████████████▏                                        | 1662/3486 [44:21<36:17,  1.19s/it]"
     ]
    },
    {
     "name": "stdout",
     "output_type": "stream",
     "text": [
      "/Terry/georeference/temp_file/ROI/52060510110008.png\n"
     ]
    },
    {
     "name": "stderr",
     "output_type": "stream",
     "text": [
      " 59%|█████████████████████████████████████████████▊                                | 2045/3486 [52:52<28:03,  1.17s/it]"
     ]
    },
    {
     "name": "stdout",
     "output_type": "stream",
     "text": [
      "/Terry/georeference/temp_file/ROI/520606002020004_WS.png\n"
     ]
    },
    {
     "name": "stderr",
     "output_type": "stream",
     "text": [
      "100%|███████████████████████████████████████████████████████████████████████████▉| 3485/3486 [1:22:31<00:01,  1.24s/it]"
     ]
    },
    {
     "name": "stdout",
     "output_type": "stream",
     "text": [
      "/Terry/georeference/temp_file/ROI/525060410070008_WS.png\n"
     ]
    },
    {
     "name": "stderr",
     "output_type": "stream",
     "text": [
      "100%|████████████████████████████████████████████████████████████████████████████| 3486/3486 [1:22:33<00:00,  1.42s/it]\n"
     ]
    }
   ],
   "source": [
    "for i in tqdm(list_peta):\n",
    "    name = i.split('_')[0]\n",
    "    name_ext = i.split('.')[0]\n",
    "\n",
    "    # file_path = 'rename/{}_WS.jpg'.format(name) \n",
    "    # angel = compute_skew(file_path)\n",
    "    # dst = deskew(file_path,angel)\n",
    "    # cv2.imwrite('temp_file/crop/{}_WS.jpg'.format(name), dst)\n",
    "\n",
    "    try:\n",
    "        get_loc(\n",
    "            '{}/{}'.format(SOURCE, i),\n",
    "            '{}/{}'.format(TEMP_ROI, i)\n",
    "        )\n",
    "    \n",
    "        crop_map(\n",
    "            '{}/{}'.format(TEMP_ROI, i),\n",
    "            '{}/{}'.format(TEMP_CROP, i)\n",
    "        )\n",
    "\n",
    "        xmin, xmax, ymin, ymax = df.loc[\n",
    "            df['idsls']==name, \n",
    "            ['xmin', 'xmax', 'ymin', 'ymax']\n",
    "        ].values[0]\n",
    "        # print(xmin, xmax, ymin, ymax)\n",
    "    except:\n",
    "        print('{}/{}'.format(TEMP_ROI, i))\n",
    "\n",
    "    try:\n",
    "        georeference(\n",
    "            '{}/{}'.format(TEMP_CROP, i), \n",
    "            '{}/{}.tif'.format(RESULT, name_ext),\n",
    "            xmin, xmax, ymin, ymax\n",
    "        )\n",
    "    except:\n",
    "        pass\n",
    "\n",
    "# shutil.rmtree('RESULT')"
   ]
  },
  {
   "cell_type": "code",
   "execution_count": null,
   "id": "0adb48f5-8a97-4890-ad46-568d5bd810d5",
   "metadata": {},
   "outputs": [],
   "source": []
  }
 ],
 "metadata": {
  "kernelspec": {
   "display_name": "Python 3 (ipykernel)",
   "language": "python",
   "name": "python3"
  },
  "language_info": {
   "codemirror_mode": {
    "name": "ipython",
    "version": 3
   },
   "file_extension": ".py",
   "mimetype": "text/x-python",
   "name": "python",
   "nbconvert_exporter": "python",
   "pygments_lexer": "ipython3",
   "version": "3.7.16"
  }
 },
 "nbformat": 4,
 "nbformat_minor": 5
}
