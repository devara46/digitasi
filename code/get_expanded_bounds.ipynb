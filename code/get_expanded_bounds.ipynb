{
 "cells": [
  {
   "cell_type": "code",
   "execution_count": 1,
   "id": "c57d3f15-1886-4105-b1c4-a6767f2325b2",
   "metadata": {
    "tags": []
   },
   "outputs": [],
   "source": [
    "import geopandas as gpd\n",
    "import pandas as pd"
   ]
  },
  {
   "cell_type": "code",
   "execution_count": 2,
   "id": "b51e97f5-1696-422a-a96b-be67c2455a32",
   "metadata": {
    "tags": []
   },
   "outputs": [],
   "source": [
    "gdf = gpd.read_file('/Terry/georeference/sls_5206_crs_3857.geojson')"
   ]
  },
  {
   "cell_type": "code",
   "execution_count": 3,
   "id": "8d10e5b3-aaba-41bb-bb83-588e591e174c",
   "metadata": {
    "tags": []
   },
   "outputs": [],
   "source": [
    "df = pd.DataFrame(columns=['idsls', 'xmin', 'xmax', 'ymin', 'ymax'])"
   ]
  },
  {
   "cell_type": "code",
   "execution_count": 4,
   "id": "b260fbbe-b3dd-44a0-ab2b-8545e20bb3d0",
   "metadata": {
    "tags": []
   },
   "outputs": [
    {
     "name": "stderr",
     "output_type": "stream",
     "text": [
      "C:\\Users\\ipds5\\AppData\\Local\\Temp\\ipykernel_6740\\2292685312.py:55: FutureWarning: The behavior of DataFrame concatenation with empty or all-NA entries is deprecated. In a future version, this will no longer exclude empty or all-NA columns when determining the result dtypes. To retain the old behavior, exclude the relevant entries before the concat operation.\n",
      "  df = pd.concat([df, temp], ignore_index=True)\n"
     ]
    }
   ],
   "source": [
    "# Calculate the expansion percentage\n",
    "expand_percentage = 0.025\n",
    "target_ratio_landscape = (324, 272)\n",
    "target_ratio_portrait = (278, 315)\n",
    "\n",
    "# Iterate over each polygon\n",
    "for index, row in gdf.iterrows():\n",
    "    polygon = row['geometry']\n",
    "    xmin, ymin, xmax, ymax = polygon.bounds\n",
    "    \n",
    "    width = xmax - xmin\n",
    "    height = ymax - ymin\n",
    "    \n",
    "    # Calculate the expansion amount\n",
    "    expand_amount = max(width, height) * expand_percentage\n",
    "    \n",
    "    if width > height:\n",
    "        xmin = xmin - expand_amount\n",
    "        xmax = xmax + expand_amount\n",
    "        \n",
    "        width = xmax - xmin\n",
    "        height = ymax - ymin\n",
    "        \n",
    "        # Landscape orientation, adjust to target_ratio_landscape\n",
    "        new_height = width * (target_ratio_landscape[1] \n",
    "                              / target_ratio_landscape[0])\n",
    "        delta = (new_height - height) / 2\n",
    "\n",
    "        ymin -= delta\n",
    "        ymax += delta\n",
    "        \n",
    "    else:\n",
    "        ymin = ymin - expand_amount\n",
    "        ymax = ymax + expand_amount\n",
    "        \n",
    "        width = xmax - xmin\n",
    "        height = ymax - ymin\n",
    "        \n",
    "        # Portrait orientation, adjust to target_ratio_portrait\n",
    "        new_width = height * (target_ratio_portrait[0] \n",
    "                              / target_ratio_portrait[1])\n",
    "        delta = (new_width - width) / 2\n",
    "\n",
    "        xmin -= delta\n",
    "        xmax += delta\n",
    "    \n",
    "    temp = pd.DataFrame({\n",
    "      'idsls': row['idsls'],\n",
    "      'xmin': xmin,\n",
    "      'xmax': xmax,\n",
    "      'ymin': ymin,\n",
    "      'ymax': ymax\n",
    "    }, index=[0])\n",
    "    \n",
    "    df = pd.concat([df, temp], ignore_index=True)"
   ]
  },
  {
   "cell_type": "code",
   "execution_count": 5,
   "id": "57e83e26-359f-4b97-9129-42423d730034",
   "metadata": {
    "tags": []
   },
   "outputs": [],
   "source": [
    "df.to_csv('/Terry/georeference/sls_st_coordinates.csv', index=False)"
   ]
  },
  {
   "cell_type": "code",
   "execution_count": null,
   "id": "637a9ef6-50bd-4875-88ac-bc2381b5bf2e",
   "metadata": {},
   "outputs": [],
   "source": []
  }
 ],
 "metadata": {
  "kernelspec": {
   "display_name": "Python 3 (ipykernel)",
   "language": "python",
   "name": "python3"
  },
  "language_info": {
   "codemirror_mode": {
    "name": "ipython",
    "version": 3
   },
   "file_extension": ".py",
   "mimetype": "text/x-python",
   "name": "python",
   "nbconvert_exporter": "python",
   "pygments_lexer": "ipython3",
   "version": "3.11.5"
  }
 },
 "nbformat": 4,
 "nbformat_minor": 5
}
