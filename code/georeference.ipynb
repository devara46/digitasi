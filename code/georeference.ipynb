{
 "cells": [
  {
   "cell_type": "code",
   "execution_count": 1,
   "id": "234f2a8a-a649-47bd-a86a-e7eb00af83d6",
   "metadata": {
    "tags": []
   },
   "outputs": [],
   "source": [
    "import cv2\n",
    "import math\n",
    "import os\n",
    "import pytesseract\n",
    "import re\n",
    "import numpy as np\n",
    "import csv\n",
    "\n",
    "from PIL import Image, ImageFilter\n",
    "from osgeo import gdal, osr\n",
    "from tqdm import tqdm"
   ]
  },
  {
   "cell_type": "code",
   "execution_count": null,
   "id": "1442bd7d-0b1a-477c-8a0a-e5c4771bffec",
   "metadata": {},
   "outputs": [],
   "source": []
  },
  {
   "cell_type": "code",
   "execution_count": 2,
   "id": "b121ee3d-b2c0-4e32-9b42-a97aa9b7b822",
   "metadata": {
    "tags": []
   },
   "outputs": [],
   "source": [
    "def crop_map(input_path, output_path):\n",
    "  # Load the JPEG file\n",
    "  img = cv2.imread(input_path)\n",
    "\n",
    "  # Convert the image to grayscale\n",
    "  gray = cv2.cvtColor(\n",
    "    img, \n",
    "    cv2.COLOR_BGR2GRAY\n",
    "  )\n",
    "\n",
    "  # Apply a Canny edge detection filter to find the edges\n",
    "  edges = cv2.Canny(gray, 50, 150)\n",
    "\n",
    "  # Find contours in the image\n",
    "  contours, hierarchy = cv2.findContours(\n",
    "    edges, \n",
    "    cv2.RETR_EXTERNAL, \n",
    "    cv2.CHAIN_APPROX_SIMPLE\n",
    "  )\n",
    "\n",
    "  # Find the largest contour\n",
    "  largest_contour = max(\n",
    "    contours, \n",
    "    key=cv2.contourArea\n",
    "  )\n",
    "\n",
    "  # Get the bounding box coordinates\n",
    "  x, y, w, h = cv2.boundingRect(largest_contour)\n",
    "\n",
    "  # Extract the image inside the bounding box\n",
    "  img_cropped = img[y:y+h, x:x+w]\n",
    "\n",
    "  # Save the cropped image as a new JPEG file\n",
    "  cv2.imwrite(output_path, img_cropped)"
   ]
  },
  {
   "cell_type": "code",
   "execution_count": 3,
   "id": "733fdd23-37a0-46ac-af6e-195026594d32",
   "metadata": {
    "tags": []
   },
   "outputs": [],
   "source": [
    "def get_coordinates(input_path):\n",
    "  # Read the PNG image using OpenCV\n",
    "  image = cv2.imread(input_path)\n",
    "\n",
    "  # Convert the image to grayscale\n",
    "  gray_image = cv2.cvtColor(image, cv2.COLOR_BGR2GRAY)\n",
    "\n",
    "  # Perform OCR to extract text from the image\n",
    "  text = pytesseract.image_to_string(gray_image)\n",
    "  \n",
    "  lines = re.split(r'\\s+|\\n', text)\n",
    "\n",
    "  matched_lines = [line for line in lines if line.startswith('X_min')]\n",
    "  xmin = float(matched_lines[0].split('_')[-1])\n",
    "\n",
    "  matched_lines = [line for line in lines if line.startswith('X_max')]\n",
    "  xmax = float(matched_lines[0].split('_')[-1])\n",
    "\n",
    "  matched_lines = [line for line in lines if line.startswith('Y_min')]\n",
    "  ymin = float(matched_lines[0].split('_')[-1])\n",
    "\n",
    "  matched_lines = [line for line in lines if line.startswith('Y_max')]\n",
    "  ymax = float(matched_lines[0].split('_')[-1])\n",
    "  \n",
    "  return xmin, xmax, ymin, ymax"
   ]
  },
  {
   "cell_type": "code",
   "execution_count": 4,
   "id": "ee3a231b-2991-42e8-8dc8-53b6a1a1ae86",
   "metadata": {
    "tags": []
   },
   "outputs": [],
   "source": [
    "def georeference(input_path, output_path, xmin, xmax, ymin, ymax):\n",
    "  # Load the input image\n",
    "  input_image = gdal.Open(input_path)\n",
    "\n",
    "  # Get the image dimensions\n",
    "  image_width = input_image.RasterXSize\n",
    "  image_height = input_image.RasterYSize\n",
    "  num_bands = input_image.RasterCount\n",
    "\n",
    "  # Create a spatial reference for the output GeoTIFF\n",
    "  output_srs = osr.SpatialReference()\n",
    "  output_srs.ImportFromEPSG(4326)  # Use WGS84 coordinate system\n",
    "\n",
    "  # Create the output GeoTIFF file\n",
    "  driver = gdal.GetDriverByName('GTiff')\n",
    "  output_image = driver.Create(\n",
    "    output_path, \n",
    "    image_width, \n",
    "    image_height, \n",
    "    num_bands, \n",
    "    gdal.GDT_Byte\n",
    "  )\n",
    "\n",
    "  # Write the output image data\n",
    "  for band_index in range(1, num_bands + 1):\n",
    "      input_band = input_image.GetRasterBand(band_index)\n",
    "      output_band = output_image.GetRasterBand(band_index)\n",
    "      output_band.WriteArray(input_band.ReadAsArray())\n",
    "\n",
    "  # Set the output image geotransform\n",
    "  geotransform = (\n",
    "    xmin, \n",
    "    (xmax - xmin) / image_width, \n",
    "    0, \n",
    "    ymax, \n",
    "    0, \n",
    "    (ymin - ymax) / image_height\n",
    "  )\n",
    "  output_image.SetGeoTransform(geotransform)\n",
    "\n",
    "  # Set the output image projection\n",
    "  output_image.SetProjection(output_srs.ExportToWkt())\n",
    "\n",
    "  # Close the input and output images\n",
    "  input_image = None\n",
    "  output_image = None"
   ]
  },
  {
   "cell_type": "code",
   "execution_count": 5,
   "id": "888bbdff-30f3-4749-9953-48b5c79d5713",
   "metadata": {
    "tags": []
   },
   "outputs": [],
   "source": [
    "if not os.path.exists('/temp_file'):\n",
    "  os.makedirs('/temp_file')\n",
    "  \n",
    "if not os.path.exists('/temp_file/straighten'):\n",
    "  os.makedirs('/temp_file/straighten')\n",
    "\n",
    "if not os.path.exists('/temp_file/crop'):\n",
    "  os.makedirs('/temp_file/crop')"
   ]
  },
  {
   "cell_type": "code",
   "execution_count": 6,
   "id": "d6ff40c7-2041-42cd-a3ea-f0a6f9bc3428",
   "metadata": {
    "tags": []
   },
   "outputs": [],
   "source": [
    "if not os.path.exists('georeferenced_maps'):\n",
    "  os.makedirs('georeferenced_maps')"
   ]
  },
  {
   "cell_type": "code",
   "execution_count": 7,
   "id": "f39ab244-fe99-420d-bc85-5b76926b6ef6",
   "metadata": {
    "tags": []
   },
   "outputs": [],
   "source": [
    "list_peta = os.listdir('scan_peta')"
   ]
  },
  {
   "cell_type": "code",
   "execution_count": 8,
   "id": "141c3d21-0d34-49c1-bb76-5643ac29ad13",
   "metadata": {
    "tags": []
   },
   "outputs": [
    {
     "name": "stderr",
     "output_type": "stream",
     "text": [
      "  0%|                                                                                           | 0/22 [00:00<?, ?it/s]"
     ]
    },
    {
     "name": "stdout",
     "output_type": "stream",
     "text": [
      "scan_peta/Document_20230714_0010.jpg\n",
      "118.69395973618504 118.69631715409326 -8.558126424747066 -8.555455249779108\n"
     ]
    },
    {
     "name": "stderr",
     "output_type": "stream",
     "text": [
      "  5%|███▊                                                                               | 1/22 [00:02<00:45,  2.14s/it]"
     ]
    },
    {
     "name": "stdout",
     "output_type": "stream",
     "text": [
      "scan_peta/Document_20230714_0011.jpg\n",
      "118.68285338135313 118.68417081901835 -8.596279877836846 -8.59517388078456\n"
     ]
    },
    {
     "name": "stderr",
     "output_type": "stream",
     "text": [
      "  9%|███████▌                                                                           | 2/22 [00:05<01:00,  3.05s/it]"
     ]
    },
    {
     "name": "stdout",
     "output_type": "stream",
     "text": [
      "scan_peta/Document_20230714_0012.jpg\n",
      "118.69429422806591 118.69642113708908 -8.612419741190436 -8.610634187936425\n"
     ]
    },
    {
     "name": "stderr",
     "output_type": "stream",
     "text": [
      " 14%|███████████▎                                                                       | 3/22 [00:09<00:59,  3.13s/it]"
     ]
    },
    {
     "name": "stdout",
     "output_type": "stream",
     "text": [
      "scan_peta/Document_20230714_0013.jpg\n"
     ]
    },
    {
     "name": "stderr",
     "output_type": "stream",
     "text": [
      " 18%|███████████████                                                                    | 4/22 [00:10<00:46,  2.60s/it]"
     ]
    },
    {
     "name": "stdout",
     "output_type": "stream",
     "text": [
      "scan_peta/Document_20230714_0014.jpg\n"
     ]
    },
    {
     "name": "stderr",
     "output_type": "stream",
     "text": [
      " 23%|██████████████████▊                                                                | 5/22 [00:12<00:38,  2.27s/it]"
     ]
    },
    {
     "name": "stdout",
     "output_type": "stream",
     "text": [
      "scan_peta/Document_20230714_0015.jpg\n",
      "118.63393142378507 118.63713189027729 -8.596222615437759 -8.593535804061576\n"
     ]
    },
    {
     "name": "stderr",
     "output_type": "stream",
     "text": [
      " 27%|██████████████████████▋                                                            | 6/22 [00:16<00:46,  2.90s/it]"
     ]
    },
    {
     "name": "stdout",
     "output_type": "stream",
     "text": [
      "scan_peta/Document_20230714_0016.jpg\n",
      "118.67924803995487 118.68250842162422 -8.559192294492455 -8.556455183955222\n"
     ]
    },
    {
     "name": "stderr",
     "output_type": "stream",
     "text": [
      " 32%|██████████████████████████▍                                                        | 7/22 [00:20<00:47,  3.16s/it]"
     ]
    },
    {
     "name": "stdout",
     "output_type": "stream",
     "text": [
      "scan_peta/Document_20230714_0017.jpg\n",
      "118.67770749009101 118.680167885643 -8.5611436815306 -8.559078164277077\n"
     ]
    },
    {
     "name": "stderr",
     "output_type": "stream",
     "text": [
      " 36%|██████████████████████████████▏                                                    | 8/22 [00:24<00:49,  3.52s/it]"
     ]
    },
    {
     "name": "stdout",
     "output_type": "stream",
     "text": [
      "scan_peta/Document_20230714_0018.jpg\n"
     ]
    },
    {
     "name": "stderr",
     "output_type": "stream",
     "text": [
      " 41%|█████████████████████████████████▉                                                 | 9/22 [00:26<00:37,  2.91s/it]"
     ]
    },
    {
     "name": "stdout",
     "output_type": "stream",
     "text": [
      "scan_peta/Document_20230714_0019.jpg\n",
      "118.69156474485999 118.69545512184098 -8.602588762677039 -8.598180601709396\n"
     ]
    },
    {
     "name": "stderr",
     "output_type": "stream",
     "text": [
      " 45%|█████████████████████████████████████▎                                            | 10/22 [00:29<00:36,  3.06s/it]"
     ]
    },
    {
     "name": "stdout",
     "output_type": "stream",
     "text": [
      "scan_peta/Document_20230714_0020.jpg\n",
      "118.69612932408779 118.69787053237593 -8.592505220338966 -8.591043465232875\n"
     ]
    },
    {
     "name": "stderr",
     "output_type": "stream",
     "text": [
      " 50%|█████████████████████████████████████████                                         | 11/22 [00:32<00:33,  3.08s/it]"
     ]
    },
    {
     "name": "stdout",
     "output_type": "stream",
     "text": [
      "scan_peta/Document_20230714_0021.jpg\n"
     ]
    },
    {
     "name": "stderr",
     "output_type": "stream",
     "text": [
      " 55%|████████████████████████████████████████████▋                                     | 12/22 [00:34<00:26,  2.60s/it]"
     ]
    },
    {
     "name": "stdout",
     "output_type": "stream",
     "text": [
      "scan_peta/Document_20230714_0022.jpg\n"
     ]
    },
    {
     "name": "stderr",
     "output_type": "stream",
     "text": [
      " 59%|████████████████████████████████████████████████▍                                 | 13/22 [00:36<00:21,  2.44s/it]"
     ]
    },
    {
     "name": "stdout",
     "output_type": "stream",
     "text": [
      "scan_peta/Document_20230714_0001.jpg\n"
     ]
    },
    {
     "name": "stderr",
     "output_type": "stream",
     "text": [
      " 64%|████████████████████████████████████████████████████▏                             | 14/22 [00:37<00:17,  2.19s/it]"
     ]
    },
    {
     "name": "stdout",
     "output_type": "stream",
     "text": [
      "scan_peta/Document_20230714_0002.jpg\n"
     ]
    },
    {
     "name": "stderr",
     "output_type": "stream",
     "text": [
      " 68%|███████████████████████████████████████████████████████▉                          | 15/22 [00:39<00:13,  1.98s/it]"
     ]
    },
    {
     "name": "stdout",
     "output_type": "stream",
     "text": [
      "scan_peta/Document_20230714_0003.jpg\n"
     ]
    },
    {
     "name": "stderr",
     "output_type": "stream",
     "text": [
      " 73%|███████████████████████████████████████████████████████████▋                      | 16/22 [00:40<00:11,  1.84s/it]"
     ]
    },
    {
     "name": "stdout",
     "output_type": "stream",
     "text": [
      "scan_peta/Document_20230714_0004.jpg\n",
      "118.66988984005663 118.6725254874169 -8.57345688668447 -8.57047045172588\n"
     ]
    },
    {
     "name": "stderr",
     "output_type": "stream",
     "text": [
      " 77%|███████████████████████████████████████████████████████████████▎                  | 17/22 [00:44<00:12,  2.50s/it]"
     ]
    },
    {
     "name": "stdout",
     "output_type": "stream",
     "text": [
      "scan_peta/Document_20230714_0005.jpg\n",
      "118.65204726999256 118.65468832636022 -8.57254269037705 -8.57032550725359\n"
     ]
    },
    {
     "name": "stderr",
     "output_type": "stream",
     "text": [
      " 82%|███████████████████████████████████████████████████████████████████               | 18/22 [00:48<00:10,  2.74s/it]"
     ]
    },
    {
     "name": "stdout",
     "output_type": "stream",
     "text": [
      "scan_peta/Document_20230714_0006.jpg\n",
      "118.6360701370677 118.63832671991118 -8.562845909701513 -8.560288990292543\n"
     ]
    },
    {
     "name": "stderr",
     "output_type": "stream",
     "text": [
      " 86%|██████████████████████████████████████████████████████████████████████▊           | 19/22 [00:52<00:09,  3.09s/it]"
     ]
    },
    {
     "name": "stdout",
     "output_type": "stream",
     "text": [
      "scan_peta/Document_20230714_0007.jpg\n"
     ]
    },
    {
     "name": "stderr",
     "output_type": "stream",
     "text": [
      " 91%|██████████████████████████████████████████████████████████████████████████▌       | 20/22 [00:53<00:05,  2.59s/it]"
     ]
    },
    {
     "name": "stdout",
     "output_type": "stream",
     "text": [
      "scan_peta/Document_20230714_0008.jpg\n"
     ]
    },
    {
     "name": "stderr",
     "output_type": "stream",
     "text": [
      " 95%|██████████████████████████████████████████████████████████████████████████████▎   | 21/22 [00:54<00:02,  2.21s/it]"
     ]
    },
    {
     "name": "stdout",
     "output_type": "stream",
     "text": [
      "scan_peta/Document_20230714_0009.jpg\n"
     ]
    },
    {
     "name": "stderr",
     "output_type": "stream",
     "text": [
      "100%|██████████████████████████████████████████████████████████████████████████████████| 22/22 [00:56<00:00,  2.57s/it]\n"
     ]
    }
   ],
   "source": [
    "failed = []\n",
    "for i in tqdm(list_peta):\n",
    "  name = i.split('.')[0]\n",
    "  \n",
    "  try:\n",
    "    xmin, xmax, ymin, ymax = get_coordinates(\n",
    "      'scan_peta/{}.jpg'.format(name)\n",
    "    )\n",
    "    \n",
    "    crop_map(\n",
    "      'scan_peta/{}.jpg'.format(name),\n",
    "      'temp_file/crop/{}.jpg'.format(name)\n",
    "    )\n",
    "    \n",
    "    georeference(\n",
    "      'temp_file/crop/{}.jpg'.format(name), \n",
    "      'georeferenced_maps/{}.tif'.format(name),\n",
    "      xmin, xmax, ymin, ymax\n",
    "    )\n",
    "    \n",
    "  except:\n",
    "    failed.append(name)\n",
    "\n",
    "with open(\"failed_georeference.csv\", \"w\", newline=\"\") as f:\n",
    "    writer = csv.writer(f)\n",
    "    writer.writerows(failed)"
   ]
  },
  {
   "cell_type": "code",
   "execution_count": 28,
   "id": "fc7ea455-7132-4675-96b4-000cf15bb57d",
   "metadata": {},
   "outputs": [
    {
     "data": {
      "text/plain": [
       "['Document_20230714_0010.jpg',\n",
       " 'Document_20230714_0011.jpg',\n",
       " 'Document_20230714_0012.jpg',\n",
       " 'Document_20230714_0013.jpg',\n",
       " 'Document_20230714_0014.jpg',\n",
       " 'Document_20230714_0015.jpg',\n",
       " 'Document_20230714_0016.jpg',\n",
       " 'Document_20230714_0017.jpg',\n",
       " 'Document_20230714_0018.jpg',\n",
       " 'Document_20230714_0019.jpg',\n",
       " 'Document_20230714_0020.jpg',\n",
       " 'Document_20230714_0021.jpg',\n",
       " 'Document_20230714_0022.jpg',\n",
       " 'Document_20230714_0001.jpg',\n",
       " 'Document_20230714_0002.jpg',\n",
       " 'Document_20230714_0003.jpg',\n",
       " 'Document_20230714_0004.jpg',\n",
       " 'Document_20230714_0005.jpg',\n",
       " 'Document_20230714_0006.jpg',\n",
       " 'Document_20230714_0007.jpg',\n",
       " 'Document_20230714_0008.jpg',\n",
       " 'Document_20230714_0009.jpg']"
      ]
     },
     "execution_count": 28,
     "metadata": {},
     "output_type": "execute_result"
    }
   ],
   "source": [
    "list_peta"
   ]
  },
  {
   "cell_type": "code",
   "execution_count": null,
   "id": "1151cc7a-e752-4d28-8dca-fe48382a97e7",
   "metadata": {},
   "outputs": [],
   "source": []
  }
 ],
 "metadata": {
  "kernelspec": {
   "display_name": "Python 3 (ipykernel)",
   "language": "python",
   "name": "python3"
  },
  "language_info": {
   "codemirror_mode": {
    "name": "ipython",
    "version": 3
   },
   "file_extension": ".py",
   "mimetype": "text/x-python",
   "name": "python",
   "nbconvert_exporter": "python",
   "pygments_lexer": "ipython3",
   "version": "3.10.9"
  }
 },
 "nbformat": 4,
 "nbformat_minor": 5
}
